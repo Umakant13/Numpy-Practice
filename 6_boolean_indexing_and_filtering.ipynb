{
 "cells": [
  {
   "cell_type": "code",
   "execution_count": 1,
   "id": "05cd1a78-a838-47b4-a45c-d4e2a78b9131",
   "metadata": {},
   "outputs": [],
   "source": [
    "import numpy as np"
   ]
  },
  {
   "cell_type": "code",
   "execution_count": 10,
   "id": "4cbfd528-8693-4b52-9b99-9667a91f6d37",
   "metadata": {},
   "outputs": [
    {
     "data": {
      "text/plain": [
       "(array([0, 1, 4]),)"
      ]
     },
     "execution_count": 10,
     "metadata": {},
     "output_type": "execute_result"
    }
   ],
   "source": [
    "#From [1,2,0,0,4,0], get indices of non-zero elements (two methods).\n",
    "\n",
    "a = np.array([1, 2, 0, 0, 4, 0])\n",
    "\n",
    "np.nonzero(a)"
   ]
  },
  {
   "cell_type": "code",
   "execution_count": 11,
   "id": "02c1b776-856f-4355-8c69-54021fbc25a6",
   "metadata": {},
   "outputs": [
    {
     "data": {
      "text/plain": [
       "(array([0, 1, 4]),)"
      ]
     },
     "execution_count": 11,
     "metadata": {},
     "output_type": "execute_result"
    }
   ],
   "source": [
    "np.where(a != 0)"
   ]
  },
  {
   "cell_type": "code",
   "execution_count": 13,
   "id": "d6cef400-082d-4fc0-ab08-e8fdaf71fbb6",
   "metadata": {},
   "outputs": [
    {
     "data": {
      "text/plain": [
       "array([ True,  True, False,  True,  True, False,  True])"
      ]
     },
     "execution_count": 13,
     "metadata": {},
     "output_type": "execute_result"
    }
   ],
   "source": [
    "#Filter all elements divisible by 3 from [3,6,7,9,12,14,18].\n",
    "\n",
    "arr = np.array([3,6,7,9,12,14,18])\n",
    "\n",
    "bool_index = (arr % 3 ==0)\n",
    "bool_index"
   ]
  },
  {
   "cell_type": "code",
   "execution_count": 15,
   "id": "a9702c1f-49ff-4729-8a0c-72e3da35f7e1",
   "metadata": {},
   "outputs": [
    {
     "data": {
      "text/plain": [
       "array([ 3,  6,  9, 12, 18])"
      ]
     },
     "execution_count": 15,
     "metadata": {},
     "output_type": "execute_result"
    }
   ],
   "source": [
    "arr[bool_index]"
   ]
  },
  {
   "cell_type": "code",
   "execution_count": 16,
   "id": "8636c832-7239-4f79-96fb-4f6d844840d4",
   "metadata": {},
   "outputs": [
    {
     "data": {
      "text/plain": [
       "array([[81, 49, 23, 36, 91],\n",
       "       [61, 35,  2, 54, 98],\n",
       "       [76, 40, 83, 44, 57],\n",
       "       [27, 45, 28, 78, 82],\n",
       "       [21, 51, 80,  8,  3]], dtype=int32)"
      ]
     },
     "execution_count": 16,
     "metadata": {},
     "output_type": "execute_result"
    }
   ],
   "source": [
    "#Create a 5×5 matrix of random numbers and replace all numbers greater than 50 with 0.\n",
    "\n",
    "arr = np.random.randint(1, 101, 25).reshape(5, 5)\n",
    "arr"
   ]
  },
  {
   "cell_type": "code",
   "execution_count": 17,
   "id": "d5eef2cf-6e66-4b3e-8cbb-f72eaa31f03f",
   "metadata": {},
   "outputs": [
    {
     "data": {
      "text/plain": [
       "array([[ True, False, False, False,  True],\n",
       "       [ True, False, False,  True,  True],\n",
       "       [ True, False,  True, False,  True],\n",
       "       [False, False, False,  True,  True],\n",
       "       [False,  True,  True, False, False]])"
      ]
     },
     "execution_count": 17,
     "metadata": {},
     "output_type": "execute_result"
    }
   ],
   "source": [
    "\n",
    "bool_index = (arr > 50)\n",
    "bool_index"
   ]
  },
  {
   "cell_type": "code",
   "execution_count": 18,
   "id": "6e900abd-a8b3-4e21-b908-a42e3d041cf8",
   "metadata": {},
   "outputs": [],
   "source": [
    "arr[bool_index] = 0"
   ]
  },
  {
   "cell_type": "code",
   "execution_count": 19,
   "id": "ccc6300d-e8f8-4c6f-83e6-483b076b6455",
   "metadata": {},
   "outputs": [
    {
     "name": "stdout",
     "output_type": "stream",
     "text": [
      "[[ 0 49 23 36  0]\n",
      " [ 0 35  2  0  0]\n",
      " [ 0 40  0 44  0]\n",
      " [27 45 28  0  0]\n",
      " [21  0  0  8  3]]\n"
     ]
    }
   ],
   "source": [
    "print(arr)"
   ]
  },
  {
   "cell_type": "code",
   "execution_count": 23,
   "id": "f5f94541-5e18-4a9a-8f73-39faeb3c5695",
   "metadata": {},
   "outputs": [
    {
     "data": {
      "text/plain": [
       "array([10, 74, 22, 96, 52, 38, 50, 46,  8], dtype=int32)"
      ]
     },
     "execution_count": 23,
     "metadata": {},
     "output_type": "execute_result"
    }
   ],
   "source": [
    "#Find all even numbers from a random array of size 15.\n",
    "\n",
    "arr = np.random.randint(1, 100, 15)\n",
    "\n",
    "evens = arr[arr % 2 == 0]\n",
    "evens"
   ]
  },
  {
   "cell_type": "code",
   "execution_count": 25,
   "id": "818642aa-cba8-47aa-a41a-2eaa72544582",
   "metadata": {},
   "outputs": [
    {
     "data": {
      "text/plain": [
       "array([ 9,  2,  4, -6,  3,  7, -4, -8,  6, -3], dtype=int32)"
      ]
     },
     "execution_count": 25,
     "metadata": {},
     "output_type": "execute_result"
    }
   ],
   "source": [
    "#Replace negative values in a random array with their absolute values.\n",
    "\n",
    "arr = np.random.randint(-10, 10, 10)\n",
    "arr"
   ]
  },
  {
   "cell_type": "code",
   "execution_count": 26,
   "id": "76783d80-fc3d-4cbc-815d-64892326caba",
   "metadata": {},
   "outputs": [
    {
     "data": {
      "text/plain": [
       "array([9, 2, 4, 6, 3, 7, 4, 8, 6, 3], dtype=int32)"
      ]
     },
     "execution_count": 26,
     "metadata": {},
     "output_type": "execute_result"
    }
   ],
   "source": [
    "\n",
    "abs_arr = np.absolute(arr)\n",
    "abs_arr"
   ]
  },
  {
   "cell_type": "code",
   "execution_count": null,
   "id": "428ab1fa-af25-4222-981d-a5b6ded7bc65",
   "metadata": {},
   "outputs": [],
   "source": []
  },
  {
   "cell_type": "code",
   "execution_count": null,
   "id": "34973698-9ff5-4982-a3c6-eee38d83d062",
   "metadata": {},
   "outputs": [],
   "source": []
  },
  {
   "cell_type": "code",
   "execution_count": null,
   "id": "3c3f398b-eb5f-4fa9-9f2e-08f96f3ae619",
   "metadata": {},
   "outputs": [],
   "source": []
  }
 ],
 "metadata": {
  "kernelspec": {
   "display_name": "Python [conda env:base] *",
   "language": "python",
   "name": "conda-base-py"
  },
  "language_info": {
   "codemirror_mode": {
    "name": "ipython",
    "version": 3
   },
   "file_extension": ".py",
   "mimetype": "text/x-python",
   "name": "python",
   "nbconvert_exporter": "python",
   "pygments_lexer": "ipython3",
   "version": "3.13.5"
  }
 },
 "nbformat": 4,
 "nbformat_minor": 5
}
