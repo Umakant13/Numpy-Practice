{
 "cells": [
  {
   "cell_type": "code",
   "execution_count": 1,
   "id": "53d95807-cb2a-4796-a83b-22676edee397",
   "metadata": {},
   "outputs": [],
   "source": [
    "import numpy as np"
   ]
  },
  {
   "cell_type": "code",
   "execution_count": 3,
   "id": "d350b9db-1711-47dc-9b7b-a6e2b24b75e0",
   "metadata": {},
   "outputs": [
    {
     "data": {
      "text/plain": [
       "array([28, 33, 93, 87, 97,  6, 42, 86, 68, 83], dtype=int32)"
      ]
     },
     "execution_count": 3,
     "metadata": {},
     "output_type": "execute_result"
    }
   ],
   "source": [
    "#Q1. Create a NumPy array of 10 random integers between 1 and 100. Find its mean.\n",
    "\n",
    "arr = np.random.randint(1, 101, 10) \n",
    "arr"
   ]
  },
  {
   "cell_type": "code",
   "execution_count": 7,
   "id": "240ecb4c-b0cc-486a-b04e-bccc40d0f8d0",
   "metadata": {},
   "outputs": [
    {
     "data": {
      "text/plain": [
       "np.float64(62.3)"
      ]
     },
     "execution_count": 7,
     "metadata": {},
     "output_type": "execute_result"
    }
   ],
   "source": [
    "mean = np.mean(arr)\n",
    "mean"
   ]
  },
  {
   "cell_type": "code",
   "execution_count": 9,
   "id": "c89fb588-85be-4806-9b87-bdd581e9a6e7",
   "metadata": {},
   "outputs": [
    {
     "data": {
      "text/plain": [
       "np.float64(7.5)"
      ]
     },
     "execution_count": 9,
     "metadata": {},
     "output_type": "execute_result"
    }
   ],
   "source": [
    "#Q2. Calculate the median of the array: [10, 5, 8, 12, 3, 7].\n",
    "\n",
    "arr =  [10, 5, 8, 12, 3, 7]\n",
    "median = np.median(arr)\n",
    "median"
   ]
  },
  {
   "cell_type": "code",
   "execution_count": 10,
   "id": "4872b4e3-f4e3-46ab-a139-332cdee01407",
   "metadata": {},
   "outputs": [
    {
     "data": {
      "text/plain": [
       "array([22, 24, 20, 18, 34, 35,  9, 47, 24, 19, 47,  8, 14, 33, 32],\n",
       "      dtype=int32)"
      ]
     },
     "execution_count": 10,
     "metadata": {},
     "output_type": "execute_result"
    }
   ],
   "source": [
    "#Q3. Generate an array of 15 random numbers between 1 and 50. Find its standard deviation.\n",
    "\n",
    "arr = np.random.randint(1, 51, 15)\n",
    "arr"
   ]
  },
  {
   "cell_type": "code",
   "execution_count": 11,
   "id": "323e2182-1ef4-4f9b-86e4-c6fc2e474214",
   "metadata": {},
   "outputs": [
    {
     "data": {
      "text/plain": [
       "np.float64(11.664571240393803)"
      ]
     },
     "execution_count": 11,
     "metadata": {},
     "output_type": "execute_result"
    }
   ],
   "source": [
    "std_deviation = np.std(arr)\n",
    "std_deviation"
   ]
  },
  {
   "cell_type": "code",
   "execution_count": 12,
   "id": "9ab66be8-97f7-4ff4-9f81-eaf35e60eaa4",
   "metadata": {},
   "outputs": [
    {
     "data": {
      "text/plain": [
       "array([[1, 2, 3],\n",
       "       [4, 5, 6],\n",
       "       [7, 8, 9]])"
      ]
     },
     "execution_count": 12,
     "metadata": {},
     "output_type": "execute_result"
    }
   ],
   "source": [
    "#Q4. Create a 3x3 array with values from 1 to 9. Find the row-wise mean.\n",
    "\n",
    "arr = np.arange(1, 10).reshape(3, 3)\n",
    "arr"
   ]
  },
  {
   "cell_type": "code",
   "execution_count": 13,
   "id": "3d665e03-3873-4f6e-869a-0402ab3a9ebb",
   "metadata": {},
   "outputs": [
    {
     "data": {
      "text/plain": [
       "array([2., 5., 8.])"
      ]
     },
     "execution_count": 13,
     "metadata": {},
     "output_type": "execute_result"
    }
   ],
   "source": [
    "row_mean = np.mean(arr, axis = 1)\n",
    "row_mean"
   ]
  },
  {
   "cell_type": "code",
   "execution_count": 14,
   "id": "401add31-14a7-4e98-90c5-3adcf0d244e2",
   "metadata": {},
   "outputs": [
    {
     "data": {
      "text/plain": [
       "array([4., 5., 6.])"
      ]
     },
     "execution_count": 14,
     "metadata": {},
     "output_type": "execute_result"
    }
   ],
   "source": [
    "column_mean = np.mean(arr, axis =0)\n",
    "column_mean"
   ]
  },
  {
   "cell_type": "code",
   "execution_count": 16,
   "id": "0175bcce-9b42-460b-8ddd-af40c69ca31e",
   "metadata": {},
   "outputs": [
    {
     "name": "stdout",
     "output_type": "stream",
     "text": [
      "Mean: 8.0 Median: 8.0 Standard Deviation: 2.8284271247461903\n"
     ]
    }
   ],
   "source": [
    "#Q5. For the array [4, 6, 8, 10, 12], calculate mean, median, std.\n",
    "\n",
    "arr = [4,6,8,10,12]\n",
    "\n",
    "mean = np.mean(arr)\n",
    "median = np.median(arr)\n",
    "std_dev = np.std(arr)\n",
    "\n",
    "print(\"Mean:\", mean, \"Median:\", median, \"Standard Deviation:\", std_dev)\n"
   ]
  },
  {
   "cell_type": "code",
   "execution_count": 19,
   "id": "4205d57d-0b84-4031-af40-26f94dc43c0d",
   "metadata": {},
   "outputs": [
    {
     "data": {
      "text/plain": [
       "array([[68,  3, 20, 57, 83],\n",
       "       [ 8, 73, 38, 37, 41],\n",
       "       [87,  4, 69, 14, 39],\n",
       "       [60, 35, 27, 15, 12],\n",
       "       [39,  5, 63, 28, 46]], dtype=int32)"
      ]
     },
     "execution_count": 19,
     "metadata": {},
     "output_type": "execute_result"
    }
   ],
   "source": [
    "#Q6. Generate a 5x5 NumPy array of random integers (0 to 100). Find the overall mean.\n",
    "\n",
    "arr = np.random.randint(0, 101, 25).reshape(5, 5)\n",
    "arr"
   ]
  },
  {
   "cell_type": "code",
   "execution_count": 20,
   "id": "2c12ef5c-08c8-4a23-afd7-821108245145",
   "metadata": {},
   "outputs": [
    {
     "data": {
      "text/plain": [
       "np.float64(38.84)"
      ]
     },
     "execution_count": 20,
     "metadata": {},
     "output_type": "execute_result"
    }
   ],
   "source": [
    "mean = np.mean(arr)\n",
    "mean"
   ]
  },
  {
   "cell_type": "code",
   "execution_count": 21,
   "id": "27758627-d2b9-4a54-928d-83b4faaec00b",
   "metadata": {},
   "outputs": [
    {
     "data": {
      "text/plain": [
       "array([46.2, 39.4, 42.6, 29.8, 36.2])"
      ]
     },
     "execution_count": 21,
     "metadata": {},
     "output_type": "execute_result"
    }
   ],
   "source": [
    "row_mean = np.mean(arr, axis= 1) #Row-wise mean\n",
    "row_mean"
   ]
  },
  {
   "cell_type": "code",
   "execution_count": 22,
   "id": "ed106115-fff3-4b74-ae06-406c1428de54",
   "metadata": {},
   "outputs": [
    {
     "data": {
      "text/plain": [
       "array([52.4, 24. , 43.4, 30.2, 44.2])"
      ]
     },
     "execution_count": 22,
     "metadata": {},
     "output_type": "execute_result"
    }
   ],
   "source": [
    "column_mean = np.mean(arr, axis= 0) #Column-wise mean\n",
    "column_mean"
   ]
  },
  {
   "cell_type": "code",
   "execution_count": 24,
   "id": "fc4b4ee9-5341-48d6-a6af-d6f1c9a02cf7",
   "metadata": {},
   "outputs": [
    {
     "data": {
      "text/plain": [
       "array([ 74, 288,  38, 304,  66, 261,  52, 300, 325,  81, 449, 486, 163,\n",
       "       111, 409, 260, 249, 309, 107, 118,  72,  61, 398, 122, 453, 277,\n",
       "        70, 148, 482, 397,  95,  55, 466, 122, 287, 128,  81,  57, 314,\n",
       "       118, 185, 225, 129, 340,  84, 326, 154, 125,  88, 248], dtype=int32)"
      ]
     },
     "execution_count": 24,
     "metadata": {},
     "output_type": "execute_result"
    }
   ],
   "source": [
    "#Q7. Create an array of 50 random integers and calculate the standard deviation.\n",
    "\n",
    "arr = np.random.randint(1, 500, 50)\n",
    "arr"
   ]
  },
  {
   "cell_type": "code",
   "execution_count": 25,
   "id": "c56a84f2-72c6-4640-af83-60ec4c0ac996",
   "metadata": {},
   "outputs": [
    {
     "data": {
      "text/plain": [
       "np.float64(134.91612357312968)"
      ]
     },
     "execution_count": 25,
     "metadata": {},
     "output_type": "execute_result"
    }
   ],
   "source": [
    "std_dev = np.std(arr)\n",
    "std_dev"
   ]
  },
  {
   "cell_type": "code",
   "execution_count": 33,
   "id": "1a3c5bc1-a6d1-4f7d-b8e0-b7b10a75b713",
   "metadata": {},
   "outputs": [
    {
     "name": "stdout",
     "output_type": "stream",
     "text": [
      "Indices of non-zero elements: [0 1 4]\n"
     ]
    }
   ],
   "source": [
    "#Q8. Find indices of non-zero elements from [1,2,0,0,4,0]\n",
    "\n",
    "arr = [1,2,0, 0, 4, 0]\n",
    "\n",
    "indices = np.nonzero(arr)\n",
    "\n",
    "print(\"Indices of non-zero elements:\", indices[0])\n"
   ]
  },
  {
   "cell_type": "code",
   "execution_count": 35,
   "id": "7a34d614-9b3c-4f36-9a46-ebd16e1ee97b",
   "metadata": {},
   "outputs": [
    {
     "name": "stdout",
     "output_type": "stream",
     "text": [
      "[ True  True False False  True False]\n"
     ]
    }
   ],
   "source": [
    "arr1 = np.array([1,2,0,0,4,0])\n",
    "\n",
    "bool_index = (arr1 != 0)\n",
    "\n",
    "print(bool_index)"
   ]
  },
  {
   "cell_type": "code",
   "execution_count": 38,
   "id": "103dd590-aaa7-4406-bbb6-ed693fec825c",
   "metadata": {},
   "outputs": [
    {
     "data": {
      "text/plain": [
       "array([1, 2, 4])"
      ]
     },
     "execution_count": 38,
     "metadata": {},
     "output_type": "execute_result"
    }
   ],
   "source": [
    "non_zero_values = arr1[bool_index]\n",
    "non_zero_values"
   ]
  },
  {
   "cell_type": "code",
   "execution_count": 48,
   "id": "a45d6533-94ce-4dcf-b526-70118460db56",
   "metadata": {},
   "outputs": [
    {
     "data": {
      "text/plain": [
       "array([[2, 3, 4],\n",
       "       [5, 7, 4],\n",
       "       [8, 9, 0]])"
      ]
     },
     "execution_count": 48,
     "metadata": {},
     "output_type": "execute_result"
    }
   ],
   "source": [
    "#Q9. Print 2D array elements\n",
    "\n",
    "arr = np.array([\n",
    "      [2,3,4,\n",
    "       5,7,4,\n",
    "       8,9,0]\n",
    "]).reshape(3,3)\n",
    "\n",
    "arr"
   ]
  },
  {
   "cell_type": "code",
   "execution_count": 49,
   "id": "18e5fd20-66a5-4db9-9362-12906445cdb9",
   "metadata": {},
   "outputs": [
    {
     "name": "stdout",
     "output_type": "stream",
     "text": [
      "[7 4]\n"
     ]
    }
   ],
   "source": [
    "new_arr = arr[1, 1:]   # row 1, columns 1 onwards\n",
    "print(new_arr)         # [7 4]\n"
   ]
  },
  {
   "cell_type": "code",
   "execution_count": 55,
   "id": "c29a1fde-2cbc-4ead-a488-8dec1488a1d5",
   "metadata": {},
   "outputs": [],
   "source": [
    "#Q10. Create 2 array of 2-Dimension and then perform matrix multiplication on them\n",
    "\n",
    "arr1 = np.random.randint(1, 5, (2, 2))\n",
    "arr2 = np.random.randint(1, 5, (2, 2))"
   ]
  },
  {
   "cell_type": "code",
   "execution_count": 56,
   "id": "6eec091b-c41b-416d-916f-16a2a95ce71a",
   "metadata": {},
   "outputs": [
    {
     "data": {
      "text/plain": [
       "array([[20, 10],\n",
       "       [28, 14]], dtype=int32)"
      ]
     },
     "execution_count": 56,
     "metadata": {},
     "output_type": "execute_result"
    }
   ],
   "source": [
    "result = np.matmul(arr1, arr2)\n",
    "result"
   ]
  },
  {
   "cell_type": "code",
   "execution_count": null,
   "id": "bdcfb6fb-0ccc-46b9-bd3b-a4852771ef98",
   "metadata": {},
   "outputs": [],
   "source": []
  },
  {
   "cell_type": "code",
   "execution_count": null,
   "id": "85bab5f7-f5ba-4518-9a65-46405f5594e0",
   "metadata": {},
   "outputs": [],
   "source": []
  }
 ],
 "metadata": {
  "kernelspec": {
   "display_name": "Python [conda env:base] *",
   "language": "python",
   "name": "conda-base-py"
  },
  "language_info": {
   "codemirror_mode": {
    "name": "ipython",
    "version": 3
   },
   "file_extension": ".py",
   "mimetype": "text/x-python",
   "name": "python",
   "nbconvert_exporter": "python",
   "pygments_lexer": "ipython3",
   "version": "3.13.5"
  }
 },
 "nbformat": 4,
 "nbformat_minor": 5
}
