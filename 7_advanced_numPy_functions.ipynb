{
 "cells": [
  {
   "cell_type": "code",
   "execution_count": 18,
   "id": "c08ce6f9-e344-437d-b286-9f862e420085",
   "metadata": {},
   "outputs": [],
   "source": [
    "import numpy as np\n",
    "import matplotlib.pyplot as plt"
   ]
  },
  {
   "cell_type": "code",
   "execution_count": 10,
   "id": "28b60516-47d4-4567-ab68-0fa2016beb0a",
   "metadata": {},
   "outputs": [],
   "source": [
    "#Create two random arrays and compute their dot product and cross product.\n",
    "\n",
    "a = np.random.randint(1, 10, 3)\n",
    "b = np.random.randint(10, 20, 3)"
   ]
  },
  {
   "cell_type": "code",
   "execution_count": 11,
   "id": "beb068bd-ef62-4d62-b4a5-287027db6c40",
   "metadata": {},
   "outputs": [
    {
     "data": {
      "text/plain": [
       "np.int32(345)"
      ]
     },
     "execution_count": 11,
     "metadata": {},
     "output_type": "execute_result"
    }
   ],
   "source": [
    "dot_product = a @ b  #np.dot()\n",
    "dot_product"
   ]
  },
  {
   "cell_type": "code",
   "execution_count": 12,
   "id": "a4514cc4-4d06-41d4-831d-feca71890451",
   "metadata": {},
   "outputs": [
    {
     "data": {
      "text/plain": [
       "array([-36,  20,  23], dtype=int32)"
      ]
     },
     "execution_count": 12,
     "metadata": {},
     "output_type": "execute_result"
    }
   ],
   "source": [
    "cross_product = np.cross(a, b)\n",
    "cross_product"
   ]
  },
  {
   "cell_type": "code",
   "execution_count": 14,
   "id": "d9e97880-695e-40bb-8e3a-a97caf50b2e9",
   "metadata": {},
   "outputs": [
    {
     "data": {
      "text/plain": [
       "array([[13, 44, 32, 48, 55],\n",
       "       [ 2,  2, 78, 15, 55],\n",
       "       [85, 81, 68, 87, 47],\n",
       "       [37, 10, 59, 35, 15],\n",
       "       [85,  9, 13, 22, 27]], dtype=int32)"
      ]
     },
     "execution_count": 14,
     "metadata": {},
     "output_type": "execute_result"
    }
   ],
   "source": [
    "#Generate a 5×5 matrix with random integers and compute its determinant.\n",
    "\n",
    "a = np.random.randint(1, 100, 25).reshape(5, 5)\n",
    "a"
   ]
  },
  {
   "cell_type": "code",
   "execution_count": 15,
   "id": "ca09ad10-e243-4cee-a6cc-200d40e2dc40",
   "metadata": {},
   "outputs": [
    {
     "data": {
      "text/plain": [
       "np.float64(324511895.9999992)"
      ]
     },
     "execution_count": 15,
     "metadata": {},
     "output_type": "execute_result"
    }
   ],
   "source": [
    "det = np.linalg.det(a)\n",
    "det"
   ]
  },
  {
   "cell_type": "code",
   "execution_count": 16,
   "id": "a21c91e7-8d23-4c89-91ed-c22f0b302d57",
   "metadata": {},
   "outputs": [
    {
     "data": {
      "text/plain": [
       "array([[1, 2, 3],\n",
       "       [4, 5, 6],\n",
       "       [7, 8, 9]])"
      ]
     },
     "execution_count": 16,
     "metadata": {},
     "output_type": "execute_result"
    }
   ],
   "source": [
    "#Find eigenvalues and eigenvectors of a 3×3 matrix.\n",
    "\n",
    "arr = np.arange(1, 10).reshape(3, 3)\n",
    "arr"
   ]
  },
  {
   "cell_type": "code",
   "execution_count": 25,
   "id": "1cc6a13a-f062-45dc-ac27-ed41a897077e",
   "metadata": {},
   "outputs": [
    {
     "name": "stdout",
     "output_type": "stream",
     "text": [
      "Eigenvalues: [212.65247818 +0.j         -56.24171585+26.70996479j\n",
      " -56.24171585-26.70996479j  32.84619008 +0.j\n",
      "  11.98476343 +0.j        ]\n",
      "Eigenvectors (columns):\n",
      " [[-0.36068338+0.j         -0.07187604-0.44547068j -0.07187604+0.44547068j\n",
      "  -0.23621824+0.j         -0.09783186+0.j        ]\n",
      " [-0.37001464+0.j          0.61049672+0.j          0.61049672-0.j\n",
      "  -0.13202332+0.j         -0.57491611+0.j        ]\n",
      " [-0.72571688+0.j         -0.42137423-0.08975377j -0.42137423+0.08975377j\n",
      "   0.32315694+0.j         -0.10704135+0.j        ]\n",
      " [-0.36031905+0.j          0.18311759+0.23028445j  0.18311759-0.23028445j\n",
      "   0.59352101+0.j          0.78837778+0.j        ]\n",
      " [-0.27658967+0.j         -0.09622179+0.37716027j -0.09622179-0.37716027j\n",
      "  -0.68561884+0.j         -0.16402143+0.j        ]]\n"
     ]
    }
   ],
   "source": [
    "vals, vecs = np.linalg.eig(a)\n",
    "\n",
    "print(\"Eigenvalues:\", vals)\n",
    "print(\"Eigenvectors (columns):\\n\", vecs)\n"
   ]
  },
  {
   "cell_type": "code",
   "execution_count": 20,
   "id": "bcc5bed2-4e29-487c-8e11-8bb29980d73d",
   "metadata": {},
   "outputs": [],
   "source": [
    "#Generate 1000 random numbers and plot their histogram using NumPy + Matplotlib.\n",
    "\n",
    "arr = np.random.randint(1, 2000, 1000)"
   ]
  },
  {
   "cell_type": "code",
   "execution_count": 26,
   "id": "68b54f64-c861-4f1a-b74d-373f2036e98c",
   "metadata": {},
   "outputs": [
    {
     "data": {
      "image/png": "[encoded data removed]",
      "text/plain": [
       "<Figure size 640x480 with 1 Axes>"
      ]
     },
     "metadata": {},
     "output_type": "display_data"
    }
   ],
   "source": [
    "plt.hist(arr, bins=30, edgecolor='black')  # you can adjust bins\n",
    "plt.xlabel(\"Value\")\n",
    "plt.ylabel(\"Frequency\")\n",
    "plt.title(\"Histogram of 1000 Random Integers (1–2000)\")\n",
    "plt.show()\n"
   ]
  },
  {
   "cell_type": "code",
   "execution_count": 27,
   "id": "f2d76897-1da6-4c18-9bd1-819c612d6ea4",
   "metadata": {},
   "outputs": [],
   "source": [
    "#Use np.unique() to find unique elements and their counts in [1,2,2,3,3,3,4,4,4,4].\n",
    "\n",
    "arr = np.array([1,2,2,3,3,3,4,4,4,4])\n",
    "\n",
    "unique, counts = np.unique(arr, return_counts=True)"
   ]
  },
  {
   "cell_type": "code",
   "execution_count": 28,
   "id": "4087e1c6-9668-4d9c-af00-2c088f89de07",
   "metadata": {},
   "outputs": [
    {
     "name": "stdout",
     "output_type": "stream",
     "text": [
      "Unique elements: [1 2 3 4]\n",
      "Counts: [1 2 3 4]\n"
     ]
    }
   ],
   "source": [
    "print(\"Unique elements:\", unique)\n",
    "print(\"Counts:\", counts)\n"
   ]
  },
  {
   "cell_type": "code",
   "execution_count": null,
   "id": "4203d8ba-3feb-4db0-aae0-8af0c8614324",
   "metadata": {},
   "outputs": [],
   "source": []
  }
 ],
 "metadata": {
  "kernelspec": {
   "display_name": "Python [conda env:base] *",
   "language": "python",
   "name": "conda-base-py"
  },
  "language_info": {
   "codemirror_mode": {
    "name": "ipython",
    "version": 3
   },
   "file_extension": ".py",
   "mimetype": "text/x-python",
   "name": "python",
   "nbconvert_exporter": "python",
   "pygments_lexer": "ipython3",
   "version": "3.13.5"
  }
 },
 "nbformat": 4,
 "nbformat_minor": 5
}
