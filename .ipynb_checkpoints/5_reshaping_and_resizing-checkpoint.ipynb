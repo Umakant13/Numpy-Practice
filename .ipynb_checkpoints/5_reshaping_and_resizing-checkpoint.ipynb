{
 "cells": [
  {
   "cell_type": "code",
   "execution_count": 1,
   "id": "95ba6a2d-2362-4f31-bb54-693c1ddbed5f",
   "metadata": {},
   "outputs": [],
   "source": [
    "import numpy as np"
   ]
  },
  {
   "cell_type": "code",
   "execution_count": 4,
   "id": "8bb6badc-a4a9-4f12-975d-b0e0b1f46a52",
   "metadata": {},
   "outputs": [
    {
     "data": {
      "text/plain": [
       "array([[ 1,  2,  3,  4],\n",
       "       [ 5,  6,  7,  8],\n",
       "       [ 9, 10, 11, 12]])"
      ]
     },
     "execution_count": 4,
     "metadata": {},
     "output_type": "execute_result"
    }
   ],
   "source": [
    "#Create an array of 12 elements and reshape it into a 3×4 matrix.\n",
    "\n",
    "arr = np.arange(1, 13).reshape(3, 4)\n",
    "arr"
   ]
  },
  {
   "cell_type": "code",
   "execution_count": 5,
   "id": "57aa1f4e-efe5-419e-9430-645b99df82f6",
   "metadata": {},
   "outputs": [
    {
     "data": {
      "text/plain": [
       "array([[1, 2, 3],\n",
       "       [4, 5, 6],\n",
       "       [7, 8, 9]])"
      ]
     },
     "execution_count": 5,
     "metadata": {},
     "output_type": "execute_result"
    }
   ],
   "source": [
    "#Flatten a 2D array into a 1D array.\n",
    "\n",
    "arr = np.arange(1, 10).reshape(3, 3)\n",
    "arr"
   ]
  },
  {
   "cell_type": "code",
   "execution_count": 6,
   "id": "924d75a7-8338-4ecc-800a-df6105d2fa01",
   "metadata": {},
   "outputs": [
    {
     "data": {
      "text/plain": [
       "array([1, 2, 3, 4, 5, 6, 7, 8, 9])"
      ]
     },
     "execution_count": 6,
     "metadata": {},
     "output_type": "execute_result"
    }
   ],
   "source": [
    "flatten_array = arr.flatten()\n",
    "flatten_array"
   ]
  },
  {
   "cell_type": "code",
   "execution_count": 7,
   "id": "8f31ecd5-749f-4230-8e4b-8df7ab553d7b",
   "metadata": {},
   "outputs": [
    {
     "data": {
      "text/plain": [
       "array([1, 2, 3, 4, 5, 6, 7, 8, 9])"
      ]
     },
     "execution_count": 7,
     "metadata": {},
     "output_type": "execute_result"
    }
   ],
   "source": [
    "flat1 = arr.ravel()\n",
    "flat1"
   ]
  },
  {
   "cell_type": "code",
   "execution_count": 8,
   "id": "52a20a7c-6408-4489-8c48-fa0ba04c0bc2",
   "metadata": {},
   "outputs": [
    {
     "data": {
      "text/plain": [
       "array([1, 2, 3, 4, 5, 6, 7, 8, 9])"
      ]
     },
     "execution_count": 8,
     "metadata": {},
     "output_type": "execute_result"
    }
   ],
   "source": [
    "flat2 = arr.reshape(-1)\n",
    "flat2"
   ]
  },
  {
   "cell_type": "code",
   "execution_count": 18,
   "id": "21b66698-32c8-441b-8882-6417ec7cdfb1",
   "metadata": {},
   "outputs": [],
   "source": [
    "#Stack two arrays vertically and horizontally.\n",
    "\n",
    "arr1 = np.arange(1, 10)\n",
    "arr2 = np.arange(11, 20)\n"
   ]
  },
  {
   "cell_type": "code",
   "execution_count": 19,
   "id": "2f0dd2c4-e201-4411-8833-c5a5641ac082",
   "metadata": {},
   "outputs": [
    {
     "data": {
      "text/plain": [
       "array([[ 1,  2,  3,  4,  5,  6,  7,  8,  9],\n",
       "       [11, 12, 13, 14, 15, 16, 17, 18, 19]])"
      ]
     },
     "execution_count": 19,
     "metadata": {},
     "output_type": "execute_result"
    }
   ],
   "source": [
    "vertical = np.vstack((arr1, arr2))\n",
    "vertical"
   ]
  },
  {
   "cell_type": "code",
   "execution_count": 21,
   "id": "6ed3cf18-79a0-4f84-890a-00a9c269f79a",
   "metadata": {},
   "outputs": [
    {
     "data": {
      "text/plain": [
       "array([ 1,  2,  3,  4,  5,  6,  7,  8,  9, 11, 12, 13, 14, 15, 16, 17, 18,\n",
       "       19])"
      ]
     },
     "execution_count": 21,
     "metadata": {},
     "output_type": "execute_result"
    }
   ],
   "source": [
    "horizontal = np.hstack((arr1, arr2))\n",
    "horizontal"
   ]
  },
  {
   "cell_type": "code",
   "execution_count": 23,
   "id": "5bb71ffb-4149-4063-8f52-9b3f35517396",
   "metadata": {},
   "outputs": [
    {
     "data": {
      "text/plain": [
       "array([[ 1, 11],\n",
       "       [ 2, 12],\n",
       "       [ 3, 13],\n",
       "       [ 4, 14],\n",
       "       [ 5, 15],\n",
       "       [ 6, 16],\n",
       "       [ 7, 17],\n",
       "       [ 8, 18],\n",
       "       [ 9, 19]])"
      ]
     },
     "execution_count": 23,
     "metadata": {},
     "output_type": "execute_result"
    }
   ],
   "source": [
    "column = np.column_stack((arr1, arr2))\n",
    "column"
   ]
  },
  {
   "cell_type": "code",
   "execution_count": 27,
   "id": "55407c2c-793c-45de-88b9-e5e9c15767fa",
   "metadata": {},
   "outputs": [
    {
     "data": {
      "text/plain": [
       "array([ 1,  2,  3,  4,  5,  6,  7,  8,  9, 10])"
      ]
     },
     "execution_count": 27,
     "metadata": {},
     "output_type": "execute_result"
    }
   ],
   "source": [
    "#Split a 1D array of 10 elements into 2 equal parts.\n",
    "\n",
    "arr = np.arange(1, 11)\n",
    "arr"
   ]
  },
  {
   "cell_type": "code",
   "execution_count": 30,
   "id": "79a46f51-d610-42bd-8d9a-82d6433c77e6",
   "metadata": {},
   "outputs": [
    {
     "data": {
      "text/plain": [
       "[array([1, 2, 3, 4, 5]), array([ 6,  7,  8,  9, 10])]"
      ]
     },
     "execution_count": 30,
     "metadata": {},
     "output_type": "execute_result"
    }
   ],
   "source": [
    "np.split(arr, 2)"
   ]
  },
  {
   "cell_type": "code",
   "execution_count": 31,
   "id": "9f34c3cd-5996-4e9f-a95e-60b5b7e87c3f",
   "metadata": {},
   "outputs": [
    {
     "data": {
      "text/plain": [
       "array([1, 2, 3, 4, 5, 6])"
      ]
     },
     "execution_count": 31,
     "metadata": {},
     "output_type": "execute_result"
    }
   ],
   "source": [
    "#Convert a 1D array [1,2,3,4,5,6] into a 2D array of shape (2,3).\n",
    "\n",
    "a = np.array([1,2,3,4,5,6])\n",
    "a"
   ]
  },
  {
   "cell_type": "code",
   "execution_count": 32,
   "id": "290a7c67-6d3f-4247-af98-093c10e0372f",
   "metadata": {},
   "outputs": [
    {
     "data": {
      "text/plain": [
       "array([[1, 2, 3],\n",
       "       [4, 5, 6]])"
      ]
     },
     "execution_count": 32,
     "metadata": {},
     "output_type": "execute_result"
    }
   ],
   "source": [
    "a.reshape(2,3)"
   ]
  },
  {
   "cell_type": "code",
   "execution_count": null,
   "id": "240b96f0-cb6d-4f3f-821c-8bd482eda054",
   "metadata": {},
   "outputs": [],
   "source": []
  },
  {
   "cell_type": "code",
   "execution_count": null,
   "id": "77c4e7f9-da54-483b-92da-b1eb2f22834d",
   "metadata": {},
   "outputs": [],
   "source": []
  }
 ],
 "metadata": {
  "kernelspec": {
   "display_name": "Python [conda env:base] *",
   "language": "python",
   "name": "conda-base-py"
  },
  "language_info": {
   "codemirror_mode": {
    "name": "ipython",
    "version": 3
   },
   "file_extension": ".py",
   "mimetype": "text/x-python",
   "name": "python",
   "nbconvert_exporter": "python",
   "pygments_lexer": "ipython3",
   "version": "3.13.5"
  }
 },
 "nbformat": 4,
 "nbformat_minor": 5
}
