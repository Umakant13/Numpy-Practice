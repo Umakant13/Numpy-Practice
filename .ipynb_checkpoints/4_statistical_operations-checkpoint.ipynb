{
 "cells": [
  {
   "cell_type": "code",
   "execution_count": 1,
   "id": "271d59cd-ccfa-4cc2-a12d-f9304bc9e773",
   "metadata": {},
   "outputs": [],
   "source": [
    "import numpy as np"
   ]
  },
  {
   "cell_type": "code",
   "execution_count": 4,
   "id": "122a81af-4a02-409e-a28c-943592c9a397",
   "metadata": {},
   "outputs": [
    {
     "name": "stdout",
     "output_type": "stream",
     "text": [
      " Mean = 8.0, Median = 8.0, Variance = 8.0, Standard Deviation = 2.8284271247461903\n"
     ]
    }
   ],
   "source": [
    "#Compute the mean, median, variance, and standard deviation of [4,6,8,10,12].\n",
    "\n",
    "arr = np.array([4,6,8,10,12])\n",
    "\n",
    "mean = np.mean(arr)\n",
    "median = np.median(arr)\n",
    "variance = np.var(arr)\n",
    "std_deviation = np.std(arr)\n",
    "\n",
    "print(f\" Mean = {mean}, Median = {median}, Variance = {variance}, Standard Deviation = {std_deviation}\")"
   ]
  },
  {
   "cell_type": "code",
   "execution_count": 5,
   "id": "b34cf43d-7a6d-4b96-b0c7-0acfdf0cde53",
   "metadata": {},
   "outputs": [
    {
     "data": {
      "text/plain": [
       "array([29, 81, 75, 34, 61, 41, 20, 44, 56, 63], dtype=int32)"
      ]
     },
     "execution_count": 5,
     "metadata": {},
     "output_type": "execute_result"
    }
   ],
   "source": [
    "#Normalize a random array of 10 integers (convert values between 0 and 1).\n",
    "\n",
    "arr = np.random.randint(1, 100, 10)\n",
    "arr"
   ]
  },
  {
   "cell_type": "code",
   "execution_count": 6,
   "id": "b48a4003-187d-44f1-b090-ba7366461aa7",
   "metadata": {},
   "outputs": [
    {
     "data": {
      "text/plain": [
       "array([0.14754098, 1.        , 0.90163934, 0.2295082 , 0.67213115,\n",
       "       0.3442623 , 0.        , 0.39344262, 0.59016393, 0.70491803])"
      ]
     },
     "execution_count": 6,
     "metadata": {},
     "output_type": "execute_result"
    }
   ],
   "source": [
    "norm_arr = (arr - arr.min()) / (arr.max() - arr.min())\n",
    "norm_arr"
   ]
  },
  {
   "cell_type": "code",
   "execution_count": 7,
   "id": "65f0a195-72af-4b34-b598-38bfceefd3d8",
   "metadata": {},
   "outputs": [
    {
     "data": {
      "text/plain": [
       "array([[1, 2, 3],\n",
       "       [4, 5, 6],\n",
       "       [7, 8, 9]])"
      ]
     },
     "execution_count": 7,
     "metadata": {},
     "output_type": "execute_result"
    }
   ],
   "source": [
    "#Find the sum of all elements, row-wise sum, and column-wise sum of a 3×3 matrix.\n",
    "\n",
    "arr = np.arange(1, 10).reshape(3,3)\n",
    "arr"
   ]
  },
  {
   "cell_type": "code",
   "execution_count": 8,
   "id": "93c24a80-5783-4698-a24f-42d577a39925",
   "metadata": {},
   "outputs": [
    {
     "name": "stdout",
     "output_type": "stream",
     "text": [
      "45 [ 6 15 24] [12 15 18]\n"
     ]
    }
   ],
   "source": [
    "sum_of_elements = np.sum(arr)\n",
    "\n",
    "row_wise_sum = np.sum(arr, axis = 1)\n",
    "\n",
    "column_wise_sum = np.sum(arr, axis =0)\n",
    "\n",
    "print(sum_of_elements, row_wise_sum, column_wise_sum)"
   ]
  },
  {
   "cell_type": "code",
   "execution_count": 11,
   "id": "3195b570-75bc-4dfa-a7ec-8afb1fa2b44a",
   "metadata": {},
   "outputs": [],
   "source": [
    "#Create two 3×3 matrices and perform element-wise multiplication and matrix multiplication.\n",
    "\n",
    "arr1 = np.arange(1, 10).reshape(3, 3)\n",
    "arr2 = np.arange(10, 19).reshape(3,3)"
   ]
  },
  {
   "cell_type": "code",
   "execution_count": 12,
   "id": "9f799fa4-5720-483e-9135-97aa0ec3a161",
   "metadata": {},
   "outputs": [
    {
     "data": {
      "text/plain": [
       "array([[ 10,  22,  36],\n",
       "       [ 52,  70,  90],\n",
       "       [112, 136, 162]])"
      ]
     },
     "execution_count": 12,
     "metadata": {},
     "output_type": "execute_result"
    }
   ],
   "source": [
    "element_wise = arr1 * arr2\n",
    "element_wise"
   ]
  },
  {
   "cell_type": "code",
   "execution_count": 13,
   "id": "c316a6f4-f908-4ba1-ba53-769e30ca4a63",
   "metadata": {},
   "outputs": [
    {
     "data": {
      "text/plain": [
       "array([[ 84,  90,  96],\n",
       "       [201, 216, 231],\n",
       "       [318, 342, 366]])"
      ]
     },
     "execution_count": 13,
     "metadata": {},
     "output_type": "execute_result"
    }
   ],
   "source": [
    "matrix_multi = arr1 @ arr2\n",
    "matrix_multi"
   ]
  },
  {
   "cell_type": "code",
   "execution_count": 14,
   "id": "c701e1c9-0012-4e40-bdfb-73c309f5d94b",
   "metadata": {},
   "outputs": [
    {
     "data": {
      "text/plain": [
       "array([[ 84,  90,  96],\n",
       "       [201, 216, 231],\n",
       "       [318, 342, 366]])"
      ]
     },
     "execution_count": 14,
     "metadata": {},
     "output_type": "execute_result"
    }
   ],
   "source": [
    "matrix_multi = np.dot(arr1, arr2)\n",
    "matrix_multi"
   ]
  },
  {
   "cell_type": "code",
   "execution_count": 15,
   "id": "95f4a30a-0995-4c05-bb3f-6385915f950f",
   "metadata": {},
   "outputs": [
    {
     "data": {
      "text/plain": [
       "array([79, 26, 58, 65,  9, 38, 93, 20, 81,  8, 77, 85, 58, 97, 69, 21, 34,\n",
       "       75, 11,  5, 11, 49,  3, 72, 70, 49, 64, 75, 66, 10, 91, 47, 78, 80,\n",
       "       79, 59, 43, 94, 75, 23, 17, 46, 15, 85, 24, 57, 25, 48, 69, 99],\n",
       "      dtype=int32)"
      ]
     },
     "execution_count": 15,
     "metadata": {},
     "output_type": "execute_result"
    }
   ],
   "source": [
    "#Generate a random array of 50 numbers and calculate the 25th, 50th, and 75th percentiles.\n",
    "\n",
    "arr = np.random.randint(1, 101, 50)\n",
    "arr"
   ]
  },
  {
   "cell_type": "code",
   "execution_count": 21,
   "id": "ca1dd18f-6185-47a7-9908-3787912343ac",
   "metadata": {},
   "outputs": [
    {
     "name": "stdout",
     "output_type": "stream",
     "text": [
      "24.25 58.0 76.5\n"
     ]
    }
   ],
   "source": [
    "p25 = np.percentile(arr, 25)\n",
    "p50 = np.percentile(arr, 50)\n",
    "p75 = np.percentile(arr, 75)\n",
    "\n",
    "print(p25, p50, p75)"
   ]
  },
  {
   "cell_type": "code",
   "execution_count": null,
   "id": "896643fe-7166-4f78-a737-48fd10a12fd6",
   "metadata": {},
   "outputs": [],
   "source": []
  }
 ],
 "metadata": {
  "kernelspec": {
   "display_name": "Python [conda env:base] *",
   "language": "python",
   "name": "conda-base-py"
  },
  "language_info": {
   "codemirror_mode": {
    "name": "ipython",
    "version": 3
   },
   "file_extension": ".py",
   "mimetype": "text/x-python",
   "name": "python",
   "nbconvert_exporter": "python",
   "pygments_lexer": "ipython3",
   "version": "3.13.5"
  }
 },
 "nbformat": 4,
 "nbformat_minor": 5
}
