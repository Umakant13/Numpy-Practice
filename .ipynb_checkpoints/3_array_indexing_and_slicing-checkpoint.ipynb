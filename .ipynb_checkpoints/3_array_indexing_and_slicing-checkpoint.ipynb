{
 "cells": [
  {
   "cell_type": "code",
   "execution_count": 1,
   "id": "08cb2da7-e4ba-447c-aedd-65e5f22d52b0",
   "metadata": {},
   "outputs": [],
   "source": [
    "import numpy as np"
   ]
  },
  {
   "cell_type": "code",
   "execution_count": 2,
   "id": "f623afd4-2b5c-4140-91c9-7cc3a184b9d7",
   "metadata": {},
   "outputs": [
    {
     "data": {
      "text/plain": [
       "array([ 5, 15, 25])"
      ]
     },
     "execution_count": 2,
     "metadata": {},
     "output_type": "execute_result"
    }
   ],
   "source": [
    "#From the array [5,10,15,20,25,30], extract the elements at even positions.\n",
    "\n",
    "arr = np.array([5,10,15,20,25,30])\n",
    "\n",
    "arr[::2]"
   ]
  },
  {
   "cell_type": "code",
   "execution_count": 7,
   "id": "033429e5-f2ad-498c-b161-9178e9bba995",
   "metadata": {},
   "outputs": [
    {
     "data": {
      "text/plain": [
       "array([[2, 3],\n",
       "       [5, 6],\n",
       "       [8, 9]])"
      ]
     },
     "execution_count": 7,
     "metadata": {},
     "output_type": "execute_result"
    }
   ],
   "source": [
    "#Slice a 3×3 matrix to get the last two columns.\n",
    "\n",
    "arr = np.arange(1, 10).reshape(3,3)\n",
    "\n",
    "arr[: , 1:]"
   ]
  },
  {
   "cell_type": "code",
   "execution_count": 15,
   "id": "75411c9f-fd93-4ddf-9230-0c1f03c00cdc",
   "metadata": {},
   "outputs": [
    {
     "name": "stdout",
     "output_type": "stream",
     "text": [
      "[-1  2 -1  4 -1  6 -1  8 -1]\n"
     ]
    }
   ],
   "source": [
    "#Replace all odd numbers in [1,2,3,4,5,6,7,8,9] with -1.\n",
    "\n",
    "arr1 = np.array([1,2,3,4,5,6,7,8,9])\n",
    "\n",
    "bool_index = arr1 % 2 != 0  \n",
    "\n",
    "# Replace odd numbers with -1\n",
    "arr1[bool_index] = -1  \n",
    "\n"
   ]
  },
  {
   "cell_type": "code",
   "execution_count": 16,
   "id": "a2002ed2-44a6-4ab3-bf9a-582653c578c9",
   "metadata": {},
   "outputs": [
    {
     "name": "stdout",
     "output_type": "stream",
     "text": [
      "[-1  2 -1  4 -1  6 -1  8 -1]\n"
     ]
    }
   ],
   "source": [
    "print(arr1)"
   ]
  },
  {
   "cell_type": "code",
   "execution_count": 17,
   "id": "93965826-9339-4d10-85b7-919dfb986777",
   "metadata": {},
   "outputs": [
    {
     "data": {
      "text/plain": [
       "array([[ 1,  2,  3,  4],\n",
       "       [ 5,  6,  7,  8],\n",
       "       [ 9, 10, 11, 12],\n",
       "       [13, 14, 15, 16]])"
      ]
     },
     "execution_count": 17,
     "metadata": {},
     "output_type": "execute_result"
    }
   ],
   "source": [
    "#Get the diagonal elements of a 4×4 random matrix.\n",
    "\n",
    "arr = np.arange(1, 17).reshape(4,4)\n",
    "arr"
   ]
  },
  {
   "cell_type": "code",
   "execution_count": 18,
   "id": "83019533-bf11-4e54-b6b9-cdc959c2d24d",
   "metadata": {},
   "outputs": [
    {
     "data": {
      "text/plain": [
       "array([ 1,  6, 11, 16])"
      ]
     },
     "execution_count": 18,
     "metadata": {},
     "output_type": "execute_result"
    }
   ],
   "source": [
    "arr1 = np.diagonal(arr)\n",
    "arr1"
   ]
  },
  {
   "cell_type": "code",
   "execution_count": 22,
   "id": "bfbd6a5b-ef79-4efc-9eed-fddf2041d610",
   "metadata": {},
   "outputs": [
    {
     "data": {
      "text/plain": [
       "array([84,  7,  6, 46, 31, 67, 97, 27, 81, 37, 16, 93, 37, 82, 49],\n",
       "      dtype=int32)"
      ]
     },
     "execution_count": 22,
     "metadata": {},
     "output_type": "execute_result"
    }
   ],
   "source": [
    "#Extract all numbers greater than 50 from a random array of 15 integers (0–100).\n",
    "\n",
    "arr = np.random.randint(0, 100, 15)\n",
    "\n",
    "bool_index = (arr > 50)\n",
    "\n",
    "arr\n"
   ]
  },
  {
   "cell_type": "code",
   "execution_count": 23,
   "id": "c66f1cba-9352-46c6-82fb-561eb47b3112",
   "metadata": {},
   "outputs": [
    {
     "data": {
      "text/plain": [
       "array([84, 67, 97, 81, 93, 82], dtype=int32)"
      ]
     },
     "execution_count": 23,
     "metadata": {},
     "output_type": "execute_result"
    }
   ],
   "source": [
    "arr[bool_index]"
   ]
  },
  {
   "cell_type": "code",
   "execution_count": null,
   "id": "443c86fe-aa70-4879-86ba-a0915b9ba3c2",
   "metadata": {},
   "outputs": [],
   "source": []
  },
  {
   "cell_type": "code",
   "execution_count": null,
   "id": "66c58e7f-8b5f-4090-87e3-26a40c14addf",
   "metadata": {},
   "outputs": [],
   "source": []
  },
  {
   "cell_type": "code",
   "execution_count": null,
   "id": "b72d6449-ae7f-4d6a-b8ce-8d53cd716552",
   "metadata": {},
   "outputs": [],
   "source": []
  },
  {
   "cell_type": "code",
   "execution_count": null,
   "id": "dfe9bedc-5c71-4844-b282-3e22b81e90f0",
   "metadata": {},
   "outputs": [],
   "source": []
  },
  {
   "cell_type": "code",
   "execution_count": null,
   "id": "81ade0b0-ee88-46d7-85a5-4e52189bf69b",
   "metadata": {},
   "outputs": [],
   "source": []
  },
  {
   "cell_type": "code",
   "execution_count": null,
   "id": "e55abf17-4358-47cf-be00-75a0ad1ed455",
   "metadata": {},
   "outputs": [],
   "source": []
  },
  {
   "cell_type": "code",
   "execution_count": null,
   "id": "5b49ae1a-2cd6-4210-b699-06b20764f767",
   "metadata": {},
   "outputs": [],
   "source": []
  },
  {
   "cell_type": "code",
   "execution_count": null,
   "id": "d11339f9-42a0-474e-89bd-8f369a27ca30",
   "metadata": {},
   "outputs": [],
   "source": []
  },
  {
   "cell_type": "code",
   "execution_count": null,
   "id": "dc688ea9-d2a1-49ee-a5a5-7d5f1f9dcd11",
   "metadata": {},
   "outputs": [],
   "source": []
  },
  {
   "cell_type": "code",
   "execution_count": null,
   "id": "55d3a803-511d-4a3b-9a7b-a840a69fcc35",
   "metadata": {},
   "outputs": [],
   "source": []
  },
  {
   "cell_type": "code",
   "execution_count": null,
   "id": "f7aa1e8e-431e-41d1-81f3-de8e7d1cfc65",
   "metadata": {},
   "outputs": [],
   "source": []
  },
  {
   "cell_type": "code",
   "execution_count": null,
   "id": "f3a62647-fac6-4c39-b2e3-25169a76ccd3",
   "metadata": {},
   "outputs": [],
   "source": []
  },
  {
   "cell_type": "code",
   "execution_count": null,
   "id": "68f0951f-fc3f-48d7-a78d-7866901e3604",
   "metadata": {},
   "outputs": [],
   "source": []
  },
  {
   "cell_type": "code",
   "execution_count": null,
   "id": "84550638-1009-48e7-8473-6df147656264",
   "metadata": {},
   "outputs": [],
   "source": []
  },
  {
   "cell_type": "code",
   "execution_count": null,
   "id": "a0d9ed37-f519-4e48-b537-2e316c35c8d8",
   "metadata": {},
   "outputs": [],
   "source": []
  },
  {
   "cell_type": "code",
   "execution_count": null,
   "id": "3796380e-dd2c-4c64-becb-c83c931172aa",
   "metadata": {},
   "outputs": [],
   "source": []
  },
  {
   "cell_type": "code",
   "execution_count": null,
   "id": "0a0a41a8-ac9c-4939-a105-4794e5222c81",
   "metadata": {},
   "outputs": [],
   "source": []
  }
 ],
 "metadata": {
  "kernelspec": {
   "display_name": "Python [conda env:base] *",
   "language": "python",
   "name": "conda-base-py"
  },
  "language_info": {
   "codemirror_mode": {
    "name": "ipython",
    "version": 3
   },
   "file_extension": ".py",
   "mimetype": "text/x-python",
   "name": "python",
   "nbconvert_exporter": "python",
   "pygments_lexer": "ipython3",
   "version": "3.13.5"
  }
 },
 "nbformat": 4,
 "nbformat_minor": 5
}
